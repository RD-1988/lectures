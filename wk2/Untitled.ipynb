{
 "cells": [
  {
   "cell_type": "code",
   "execution_count": 1,
   "metadata": {},
   "outputs": [
    {
     "name": "stdout",
     "output_type": "stream",
     "text": [
      "{'h', 'm', 'i', 'y', 'o', 'l', 'p'}\n",
      "{'h', 't', 'e', 'l', 'i', 'y', 'o', 'r', 'p'}\n",
      "{'t', 'm', 'e', 'r'}\n"
     ]
    }
   ],
   "source": [
    "st1 = set('homophily')\n",
    "st2 = set('heterophily')\n",
    "print(st1)\n",
    "print(st2)\n",
    "print(st1 ^ st2)"
   ]
  },
  {
   "cell_type": "code",
   "execution_count": 2,
   "metadata": {},
   "outputs": [
    {
     "name": "stdout",
     "output_type": "stream",
     "text": [
      "[10, 30, 50]\n",
      "[50, 40, 30, 20, 10]\n",
      "[50, 30, 10]\n"
     ]
    }
   ],
   "source": [
    "ls = [10, 20, 30, 40, 50]\n",
    "print( ls[::2] ) # get elements with even indeces\n",
    "print( ls[::-1] ) # get elements in reverse order\n",
    "print( ls[::-2] )"
   ]
  },
  {
   "cell_type": "code",
   "execution_count": 7,
   "metadata": {},
   "outputs": [
    {
     "name": "stdout",
     "output_type": "stream",
     "text": [
      "bdefz\n"
     ]
    }
   ],
   "source": [
    "# Use indexing and slicing to create a new string that contains \n",
    "# the 2nd, 4th, 5th, 6th, and last characters from the string below\n",
    "\n",
    "s = 'abcdefghijklmnopqrstuvwxyz'\n",
    "\n",
    "a=s[1]+s[3:6]+s[-1]\n",
    "\n",
    "print(a)"
   ]
  },
  {
   "cell_type": "code",
   "execution_count": 9,
   "metadata": {},
   "outputs": [
    {
     "name": "stdout",
     "output_type": "stream",
     "text": [
      "(1, 1, 1, 1, 1, 1) (1, 1, 1, 1, 1, 1, 2, 2)\n",
      "2\n",
      "10\n",
      "6\n",
      "6\n"
     ]
    }
   ],
   "source": [
    "tup1 = 3 * (1,1) # Notice that tuple of length 1 needs comma!\n",
    "tup2 = tup1 + (2, 2) # Concatenate the two elements\n",
    "print(tup1, tup2)\n",
    "\n",
    "print( max(tup2) ) # or min()\n",
    "print( sum(tup2) )\n",
    "print( tup2.count(1) )\n",
    "print( tup2.index(2) )"
   ]
  },
  {
   "cell_type": "markdown",
   "metadata": {},
   "source": [
    "# Why use tuples?\n",
    "⚡️ They use less memory than lists\n",
    "####They can be used as dictionary keys; lists can't"
   ]
  },
  {
   "cell_type": "code",
   "execution_count": 10,
   "metadata": {},
   "outputs": [
    {
     "name": "stdout",
     "output_type": "stream",
     "text": [
      "(1, 2, 3) {1: 'a', 2: 'b', 3: 'c'}\n"
     ]
    }
   ],
   "source": [
    "tup = tuple([1, 2, 3]) \n",
    "dic = dict( [(1, 'a'), (2, 'b'), (3, 'c')] )\n",
    "print(tup, dic)"
   ]
  },
  {
   "cell_type": "code",
   "execution_count": 11,
   "metadata": {},
   "outputs": [
    {
     "name": "stdout",
     "output_type": "stream",
     "text": [
      "[2, 3, 4]\n",
      "3 [2, 4]\n"
     ]
    }
   ],
   "source": [
    "## List Methods: `remove` vs. `pop`\n",
    "mylist = [1, 2, 3, 4]\n",
    "mylist.remove(1)\n",
    "print(mylist)\n",
    "\n",
    "popped = mylist.pop(1)\n",
    "print(popped, mylist)"
   ]
  },
  {
   "cell_type": "code",
   "execution_count": 13,
   "metadata": {},
   "outputs": [
    {
     "name": "stdout",
     "output_type": "stream",
     "text": [
      "[1, 2, 3, [4, 5, 6]]\n",
      "[1, 2, 3, [4, 5, 6, 7, 8, 9]]\n"
     ]
    }
   ],
   "source": [
    "ls1=[1,2,3]\n",
    "ls2=[4,5,6]\n",
    "ls1.append(ls2)\n",
    "print(ls1)\n",
    "ls2.extend([7,8,9])\n",
    "print(ls1)"
   ]
  },
  {
   "cell_type": "code",
   "execution_count": 16,
   "metadata": {},
   "outputs": [
    {
     "name": "stdout",
     "output_type": "stream",
     "text": [
      "[3, 2, 1]\n",
      "[3, 2, 1]\n",
      "[3, 2, 1]\n"
     ]
    }
   ],
   "source": [
    "ls1=[1,2,3]\n",
    "ls2=ls1  #this is not making a copy, it refers the same thing\n",
    "\n",
    "ls1.reverse()\n",
    "print(ls2)\n",
    "#To avoid, to creat a copy \n",
    "ls3=ls1[:]\n",
    "print(ls3)\n",
    "ls1.reverse()\n",
    "print(ls3)"
   ]
  },
  {
   "cell_type": "code",
   "execution_count": 17,
   "metadata": {},
   "outputs": [
    {
     "name": "stdout",
     "output_type": "stream",
     "text": [
      "[1, 2, 3, 4, 5]\n",
      "[10, 9, 6, 8, 7]\n",
      "[10, 9, 6, 8, 7] [6, 7, 8, 9, 10]\n"
     ]
    }
   ],
   "source": [
    "mylist = [4, 5, 2, 1, 3]\n",
    "mylist.sort()  # Sorts in-place. It is more efficient but overwrites the input.\n",
    "print(mylist)\n",
    "\n",
    "mylist = [10, 9, 6, 8, 7]\n",
    "sorted(mylist) #this will not change the origin ls \n",
    "print(mylist)\n",
    "\n",
    "newlist = sorted(mylist)  # Creates a new list that is sorted, not changing the original.\n",
    "print(mylist, newlist)"
   ]
  },
  {
   "cell_type": "code",
   "execution_count": null,
   "metadata": {},
   "outputs": [],
   "source": []
  }
 ],
 "metadata": {
  "kernelspec": {
   "display_name": "Python 3",
   "language": "python",
   "name": "python3"
  },
  "language_info": {
   "codemirror_mode": {
    "name": "ipython",
    "version": 3
   },
   "file_extension": ".py",
   "mimetype": "text/x-python",
   "name": "python",
   "nbconvert_exporter": "python",
   "pygments_lexer": "ipython3",
   "version": "3.7.4"
  }
 },
 "nbformat": 4,
 "nbformat_minor": 2
}
